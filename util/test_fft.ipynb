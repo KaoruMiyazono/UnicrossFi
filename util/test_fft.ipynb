{
 "cells": [
  {
   "cell_type": "code",
   "execution_count": 1,
   "id": "d4fd2bd7",
   "metadata": {},
   "outputs": [
    {
     "name": "stdout",
     "output_type": "stream",
     "text": [
      "Input shape: torch.Size([2, 3, 4, 8])\n",
      "Output shape: torch.Size([2, 3, 4, 8])\n"
     ]
    }
   ],
   "source": [
    "import torch\n",
    "\n",
    "# 假设 input shape 是 [b=2, a=3, c=4, t=8]\n",
    "x = torch.rand(2, 3, 4, 8)\n",
    "\n",
    "# 对最后一个维度 t=8 执行 rFFT\n",
    "y = torch.fft.fft(x, dim=-1)\n",
    "\n",
    "print(\"Input shape:\", x.shape)\n",
    "print(\"Output shape:\", y.shape)"
   ]
  },
  {
   "cell_type": "code",
   "execution_count": null,
   "id": "1e249278",
   "metadata": {},
   "outputs": [],
   "source": []
  }
 ],
 "metadata": {
  "kernelspec": {
   "display_name": "zzy",
   "language": "python",
   "name": "python3"
  },
  "language_info": {
   "codemirror_mode": {
    "name": "ipython",
    "version": 3
   },
   "file_extension": ".py",
   "mimetype": "text/x-python",
   "name": "python",
   "nbconvert_exporter": "python",
   "pygments_lexer": "ipython3",
   "version": "3.12.9"
  }
 },
 "nbformat": 4,
 "nbformat_minor": 5
}
